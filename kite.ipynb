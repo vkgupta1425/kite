{
 "cells": [
  {
   "cell_type": "code",
   "execution_count": 77,
   "id": "b2216be9",
   "metadata": {},
   "outputs": [],
   "source": [
    "import numpy as np\n",
    "import sympy as sp\n",
    "sp.init_printing(use_latex=True)"
   ]
  },
  {
   "cell_type": "code",
   "execution_count": 78,
   "id": "3eaa9630",
   "metadata": {},
   "outputs": [],
   "source": [
    "x, y = sp.symbols(\"x y\")\n",
    "n,mu = sp.symbols(\"n mu\")\n",
    "rho_1 = (x-0.5)**2+y**2\n",
    "rho_2 = ((x+1/4)**2) + (y - sp.sqrt(3)/4)**2\n",
    "rho_3 = (x+1/2)**2+y**2\n",
    "rho_4 = (x+1/4)**2+(y+sp.sqrt(3)/4)**2"
   ]
  },
  {
   "cell_type": "code",
   "execution_count": 79,
   "id": "ed3a2dbf",
   "metadata": {},
   "outputs": [
    {
     "data": {
      "image/png": "[encoded data removed]",
      "text/latex": [
       "$\\displaystyle \\left( y^{2} + \\left(x - 0.5\\right)^{2}, \\  \\left(x + 0.25\\right)^{2} + \\left(y - \\frac{\\sqrt{3}}{4}\\right)^{2}, \\  y^{2} + \\left(x + 0.5\\right)^{2}, \\  \\left(x + 0.25\\right)^{2} + \\left(y + \\frac{\\sqrt{3}}{4}\\right)^{2}\\right)$"
      ],
      "text/plain": [
       "⎛                                       2                                     \n",
       "⎜ 2            2            2   ⎛    √3⎞    2            2            2   ⎛   \n",
       "⎜y  + (x - 0.5) , (x + 0.25)  + ⎜y - ──⎟ , y  + (x + 0.5) , (x + 0.25)  + ⎜y +\n",
       "⎝                               ⎝    4 ⎠                                  ⎝   \n",
       "\n",
       "    2⎞\n",
       " √3⎞ ⎟\n",
       " ──⎟ ⎟\n",
       " 4 ⎠ ⎠"
      ]
     },
     "execution_count": 79,
     "metadata": {},
     "output_type": "execute_result"
    }
   ],
   "source": [
    "rho_1,rho_2,rho_3,rho_4"
   ]
  },
  {
   "cell_type": "code",
   "execution_count": 80,
   "id": "1662e59b",
   "metadata": {},
   "outputs": [
    {
     "data": {
      "image/png": "[encoded data removed]",
      "text/latex": [
       "$\\displaystyle \\frac{\\mu}{\\left(x + 0.25\\right)^{2} + \\left(y + \\frac{\\sqrt{3}}{4}\\right)^{2}} + \\frac{\\mu}{\\left(x + 0.25\\right)^{2} + \\left(y - \\frac{\\sqrt{3}}{4}\\right)^{2}} + \\frac{n^{2} \\left(x^{2} + y^{2}\\right)}{2} + \\frac{1 - 3 \\mu}{2 y^{2} + 2 \\left(x + 0.5\\right)^{2}} + \\frac{1 - \\mu}{2 y^{2} + 2 \\left(x - 0.5\\right)^{2}}$"
      ],
      "text/plain": [
       "                                                     2 ⎛ 2    2⎞              \n",
       "           μ                         μ              n ⋅⎝x  + y ⎠         1 - 3\n",
       "─────────────────────── + ─────────────────────── + ──────────── + ───────────\n",
       "                      2                         2        2            2       \n",
       "          2   ⎛    √3⎞              2   ⎛    √3⎞                   2⋅y  + 2⋅(x\n",
       "(x + 0.25)  + ⎜y + ──⎟    (x + 0.25)  + ⎜y - ──⎟                              \n",
       "              ⎝    4 ⎠                  ⎝    4 ⎠                              \n",
       "\n",
       "                              \n",
       "⋅μ                1 - μ       \n",
       "──────── + ───────────────────\n",
       "       2      2              2\n",
       " + 0.5)    2⋅y  + 2⋅(x - 0.5) \n",
       "                              \n",
       "                              "
      ]
     },
     "execution_count": 80,
     "metadata": {},
     "output_type": "execute_result"
    }
   ],
   "source": [
    "Omega = n**2/2*(x**2+y**2)+(1-mu)/(2*rho_1)+mu/rho_2+ (1-3*mu)/(2*rho_3)+mu/rho_4\n",
    "Omega"
   ]
  },
  {
   "cell_type": "code",
   "execution_count": 81,
   "id": "5ec8d68b",
   "metadata": {},
   "outputs": [
    {
     "ename": "IndentationError",
     "evalue": "unexpected indent (1020648863.py, line 3)",
     "output_type": "error",
     "traceback": [
      "\u001b[1;36m  Cell \u001b[1;32mIn[81], line 3\u001b[1;36m\u001b[0m\n\u001b[1;33m    n**2/8-2*mu/3*(sp.sqrt(3))-(1-3*mu)/16,\u001b[0m\n\u001b[1;37m    ^\u001b[0m\n\u001b[1;31mIndentationError\u001b[0m\u001b[1;31m:\u001b[0m unexpected indent\n"
     ]
    }
   ],
   "source": [
    "n,mu = sp.symbols(\"n mu\")\n",
    " \n",
    "    n**2/8-2*mu/3*(sp.sqrt(3))-(1-3*mu)/16,\n",
    "    mu/(3*sp.sqrt(3)),\n",
    "    (1-3*mu)/16,\n",
    "    (1-mu)/(6*(sp.sqrt(3))),\n",
    "    n**2/8-(1+mu)/(6*sp.sqrt(3))-(1-3*mu)/2,\n",
    "    (1-3*mu)/2,\n",
    "    mu/(3*sp.sqrt(3)),\n",
    "    (1-mu)/16,\n",
    "    mu,\n",
    "    n**2/8-(1-mu)/16-2*mu,\n",
    "    mu,\n",
    "    (1-mu)/(6*(sp.sqrt(3))\n",
    "    mu/(3*sp.sqrt(3)),\n",
    "    (1-3*mu)/2,\n",
    "    n**2/8-(1+mu)/6*(sp.sqrt(3))-(1-3*mu)/2\n",
    "    )\n",
    "l"
   ]
  },
  {
   "cell_type": "code",
   "execution_count": 48,
   "id": "fef7c477",
   "metadata": {},
   "outputs": [
    {
     "name": "stdout",
     "output_type": "stream",
     "text": [
      "3.11.3\n"
     ]
    }
   ],
   "source": [
    "\n",
    "\n",
    "from platform import python_version\n",
    "\n",
    "print(python_version())"
   ]
  },
  {
   "cell_type": "code",
   "execution_count": 49,
   "id": "8d3c0952",
   "metadata": {},
   "outputs": [],
   "source": [
    "import numpy as np"
   ]
  },
  {
   "cell_type": "code",
   "execution_count": null,
   "id": "61c33c03",
   "metadata": {},
   "outputs": [],
   "source": []
  }
 ],
 "metadata": {
  "kernelspec": {
   "display_name": "Python 3 (ipykernel)",
   "language": "python",
   "name": "python3"
  },
  "language_info": {
   "codemirror_mode": {
    "name": "ipython",
    "version": 3
   },
   "file_extension": ".py",
   "mimetype": "text/x-python",
   "name": "python",
   "nbconvert_exporter": "python",
   "pygments_lexer": "ipython3",
   "version": "3.11.3"
  }
 },
 "nbformat": 4,
 "nbformat_minor": 5
}
