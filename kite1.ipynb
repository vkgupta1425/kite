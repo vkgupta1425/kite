{
 "cells": [
  {
   "cell_type": "code",
   "execution_count": 105,
   "metadata": {},
   "outputs": [],
   "source": [
    "import numpy as np \n",
    "import scipy as sc\n",
    "import sympy as sp\n",
    "sp.init_printing()"
   ]
  },
  {
   "cell_type": "code",
   "execution_count": 90,
   "metadata": {},
   "outputs": [],
   "source": [
    "n, A, mu = sp.symbols(\"n A mu\")"
   ]
  },
  {
   "cell_type": "code",
   "execution_count": 91,
   "metadata": {},
   "outputs": [
    {
     "data": {
      "image/png": "[encoded data removed]",
      "text/latex": [
       "$\\displaystyle - \\frac{16 \\sqrt{3} A}{3} - \\frac{8 \\sqrt{3} \\mu}{9} + 12 \\mu + n^{2} - \\frac{\\sqrt{3} \\cdot \\left(4 - 4 \\mu\\right)}{9} - 4$"
      ],
      "text/plain": [
       "  16⋅√3⋅A   8⋅√3⋅μ           2   √3⋅(4 - 4⋅μ)    \n",
       "- ─────── - ────── + 12⋅μ + n  - ──────────── - 4\n",
       "     3        9                       9          "
      ]
     },
     "execution_count": 91,
     "metadata": {},
     "output_type": "execute_result"
    }
   ],
   "source": [
    "a = n**2 - (16*mu)/(3*sp.sqrt(3)) + (3*mu-1)/2 - 64*A/(3*sp.sqrt(3)*(1-mu)) - 3*A/(1-mu)\n",
    "b = n**2 - 4*(1-mu)/(3*sp.sqrt(3)) - 4*(1-3*mu) - 16*A/(3*sp.sqrt(3)*mu) - 8*mu/(3*sp.sqrt(3))   \n",
    "c = n**2 - (1-mu)/2 - 16*mu - 3*A/(1-3*mu)\n",
    "d = n**2 - 4*(1-mu)/(3*sp.sqrt(3)) - 8*mu/(3*sp.sqrt(3)) - 4*(1-3*mu) - 48*A/(3*sp.sqrt(3))\n",
    "d"
   ]
  },
  {
   "cell_type": "code",
   "execution_count": 92,
   "metadata": {},
   "outputs": [
    {
     "data": {
      "text/latex": [
       "$\\displaystyle \\left[\\begin{matrix}- \\frac{64 \\sqrt{3} A}{9 \\cdot \\left(1 - \\mu\\right)} - \\frac{3 A}{1 - \\mu} - \\frac{16 \\sqrt{3} \\mu}{9} + \\frac{3 \\mu}{2} + n^{2} - \\frac{1}{2} & \\frac{32 \\sqrt{3} A}{27 \\cdot \\left(1 - \\mu\\right)} + \\frac{8 \\sqrt{3} \\mu}{9} & \\frac{3 A}{1 - \\mu} - \\frac{3 \\mu}{2} + \\frac{1}{2} & \\frac{32 \\sqrt{3} A}{9 \\cdot \\left(1 - \\mu\\right)} + \\frac{8 \\sqrt{3} \\mu}{9}\\\\\\frac{16 \\sqrt{3} A}{9 \\mu} + \\frac{\\sqrt{3} \\cdot \\left(4 - 4 \\mu\\right)}{9} & - \\frac{16 \\sqrt{3} A}{9 \\mu} - \\frac{8 \\sqrt{3} \\mu}{9} + 12 \\mu + n^{2} - \\frac{\\sqrt{3} \\cdot \\left(4 - 4 \\mu\\right)}{9} - 4 & 4 - 12 \\mu & \\frac{8 \\sqrt{3} \\mu}{9}\\\\\\frac{3 A}{1 - 3 \\mu} - \\frac{\\mu}{2} + \\frac{1}{2} & 8 \\mu & - \\frac{3 A}{1 - 3 \\mu} - \\frac{31 \\mu}{2} + n^{2} - \\frac{1}{2} & 8 \\mu\\\\\\frac{\\sqrt{3} \\cdot \\left(4 - 4 \\mu\\right)}{9} & \\frac{8 \\sqrt{3} \\mu}{9} & 4 - 12 \\mu & - \\frac{16 \\sqrt{3} A}{3} - \\frac{8 \\sqrt{3} \\mu}{9} + 12 \\mu + n^{2} - \\frac{\\sqrt{3} \\cdot \\left(4 - 4 \\mu\\right)}{9} - 4\\end{matrix}\\right]$"
      ],
      "text/plain": [
       "⎡   64⋅√3⋅A     3⋅A    16⋅√3⋅μ   3⋅μ    2   1                  32⋅√3⋅A     8⋅√\n",
       "⎢- ───────── - ───── - ─────── + ─── + n  - ─                 ────────── + ───\n",
       "⎢  9⋅(1 - μ)   1 - μ      9       2         2                 27⋅(1 - μ)     9\n",
       "⎢                                                                             \n",
       "⎢           16⋅√3⋅A   √3⋅(4 - 4⋅μ)               16⋅√3⋅A   8⋅√3⋅μ           2 \n",
       "⎢           ─────── + ────────────             - ─────── - ────── + 12⋅μ + n  \n",
       "⎢             9⋅μ          9                       9⋅μ       9                \n",
       "⎢                                                                             \n",
       "⎢                3⋅A     μ   1                                                \n",
       "⎢              ─────── - ─ + ─                                        8⋅μ     \n",
       "⎢              1 - 3⋅μ   2   2                                                \n",
       "⎢                                                                             \n",
       "⎢                √3⋅(4 - 4⋅μ)                                       8⋅√3⋅μ    \n",
       "⎢                ────────────                                       ──────    \n",
       "⎣                     9                                               9       \n",
       "\n",
       "3⋅μ                       3⋅A    3⋅μ   1                       32⋅√3⋅A    8⋅√3\n",
       "───                      ───── - ─── + ─                      ───────── + ────\n",
       "                         1 - μ    2    2                      9⋅(1 - μ)     9 \n",
       "                                                                              \n",
       "  √3⋅(4 - 4⋅μ)                                                      8⋅√3⋅μ    \n",
       "- ──────────── - 4          4 - 12⋅μ                                ──────    \n",
       "       9                                                              9       \n",
       "                                                                              \n",
       "                        3⋅A     31⋅μ    2   1                                 \n",
       "                    - ─────── - ──── + n  - ─                         8⋅μ     \n",
       "                      1 - 3⋅μ    2          2                                 \n",
       "                                                                              \n",
       "                                                 16⋅√3⋅A   8⋅√3⋅μ           2 \n",
       "                            4 - 12⋅μ           - ─────── - ────── + 12⋅μ + n  \n",
       "                                                    3        9                \n",
       "\n",
       "⋅μ                ⎤\n",
       "──                ⎥\n",
       "                  ⎥\n",
       "                  ⎥\n",
       "                  ⎥\n",
       "                  ⎥\n",
       "                  ⎥\n",
       "                  ⎥\n",
       "                  ⎥\n",
       "                  ⎥\n",
       "                  ⎥\n",
       "                  ⎥\n",
       "  √3⋅(4 - 4⋅μ)    ⎥\n",
       "- ──────────── - 4⎥\n",
       "       9          ⎦"
      ]
     },
     "execution_count": 92,
     "metadata": {},
     "output_type": "execute_result"
    }
   ],
   "source": [
    "mat = [\n",
    "a, \n",
    "(8*mu)/(3*(sp.sqrt(3)))+32*A/(9*(sp.sqrt(3))*(1-mu)) , \n",
    "(1-3*mu)/2 + 3*A/(1-mu) , \n",
    "(8*mu)/(3*(sp.sqrt(3))) + 32*A/(3*sp.sqrt(3)*(1-mu)), \n",
    "4*(1-mu)/(3*sp.sqrt(3)) + (16*A)/(3*sp.sqrt(3)*mu) , \n",
    "b , \n",
    "4*(1-3*mu), \n",
    "8*mu/(3*sp.sqrt(3)), \n",
    "(1-mu)/2 + 3*A/(1-3*mu), \n",
    "8*mu, \n",
    "c, \n",
    "8*mu, \n",
    "((4*(1-mu))/(3*sp.sqrt(3))), \n",
    "(8*mu)/(3*sp.sqrt(3)) , \n",
    "(4*(1-3*mu)), \n",
    "d\n",
    "]\n",
    "M = sp.Matrix(4, 4, mat)\n",
    "M"
   ]
  },
  {
   "cell_type": "code",
   "execution_count": 93,
   "metadata": {},
   "outputs": [],
   "source": [
    "mu_v = np.linspace(0, 1/3, 10)\n",
    "A_v = np.linspace(0, 0.2, 10)\n",
    "\n"
   ]
  },
  {
   "cell_type": "code",
   "execution_count": 102,
   "metadata": {},
   "outputs": [
    {
     "data": {
      "text/latex": [
       "$\\displaystyle \\left[\\begin{matrix}n^{2} - 0.35 - 0.177777777777778 \\sqrt{3} & 0.0888888888888889 \\sqrt{3} & 0.35 & 0.0888888888888889 \\sqrt{3}\\\\0.4 \\sqrt{3} & n^{2} - 2.8 - 0.488888888888889 \\sqrt{3} & 2.8 & 0.0888888888888889 \\sqrt{3}\\\\0.45 & 0.8 & n^{2} - 2.05 & 0.8\\\\0.4 \\sqrt{3} & 0.0888888888888889 \\sqrt{3} & 2.8 & n^{2} - 2.8 - 0.488888888888889 \\sqrt{3}\\end{matrix}\\right]$"
      ],
      "text/plain": [
       "⎡ 2                                                                           \n",
       "⎢n  - 0.35 - 0.177777777777778⋅√3       0.0888888888888889⋅√3         0.35    \n",
       "⎢                                                                             \n",
       "⎢                                   2                                         \n",
       "⎢             0.4⋅√3               n  - 2.8 - 0.488888888888889⋅√3     2.8    \n",
       "⎢                                                                             \n",
       "⎢                                                                    2        \n",
       "⎢              0.45                              0.8                n  - 2.05 \n",
       "⎢                                                                             \n",
       "⎢                                                                             \n",
       "⎣             0.4⋅√3                    0.0888888888888889⋅√3          2.8    \n",
       "\n",
       "                                ⎤\n",
       "      0.0888888888888889⋅√3     ⎥\n",
       "                                ⎥\n",
       "                                ⎥\n",
       "      0.0888888888888889⋅√3     ⎥\n",
       "                                ⎥\n",
       "                                ⎥\n",
       "               0.8              ⎥\n",
       "                                ⎥\n",
       "  2                             ⎥\n",
       " n  - 2.8 - 0.488888888888889⋅√3⎦"
      ]
     },
     "execution_count": 102,
     "metadata": {},
     "output_type": "execute_result"
    }
   ],
   "source": [
    "M_0 = M.subs({'mu': 0.1, 'A':0})\n",
    "M_0"
   ]
  },
  {
   "cell_type": "code",
   "execution_count": 111,
   "metadata": {},
   "outputs": [
    {
     "data": {
      "image/png": "[encoded data removed]",
      "text/latex": [
       "$\\displaystyle \\frac{1.0 n^{16} - 11.85 n^{14} - 2.17777777777778 \\sqrt{3} n^{14} + 21.4511111111111 \\sqrt{3} n^{12} + 56.9726851851852 n^{12} - 146.284615740741 n^{10} - 75.6802839506173 \\sqrt{3} n^{10} + 212.227726268861 n^{8} + 122.690450411523 \\sqrt{3} n^{8} - 99.3076376756591 \\sqrt{3} n^{6} - 171.923155075446 n^{6} + 69.8858113267286 n^{4} + 40.3493172321292 \\sqrt{3} n^{4} - 11.2327425607885 n^{2} - 6.48521090565462 \\sqrt{3} n^{2} - 1.77635683940025 \\cdot 10^{-15} - 8.88178419700125 \\cdot 10^{-16} \\sqrt{3}}{1.0 n^{8} - 3.85 n^{6} - 1.02222222222222 \\sqrt{3} n^{6} + 2.38 \\sqrt{3} n^{4} + 4.2675 n^{4} - 2.44076388888889 n^{2} - 1.40832510288066 \\sqrt{3} n^{2} + 0.496169615912208 + 0.286488683127572 \\sqrt{3}}$"
      ],
      "text/plain": [
       "     16          14                        14                        12       \n",
       "1.0⋅n   - 11.85⋅n   - 2.17777777777778⋅√3⋅n   + 21.4511111111111⋅√3⋅n   + 56.9\n",
       "──────────────────────────────────────────────────────────────────────────────\n",
       "                                                                              \n",
       "                                                                              \n",
       "\n",
       "              12                     10                        10             \n",
       "726851851852⋅n   - 146.284615740741⋅n   - 75.6802839506173⋅√3⋅n   + 212.227726\n",
       "──────────────────────────────────────────────────────────────────────────────\n",
       "                                       8         6                        6   \n",
       "                                  1.0⋅n  - 3.85⋅n  - 1.02222222222222⋅√3⋅n  + \n",
       "\n",
       "        8                        8                        6                   \n",
       "268861⋅n  + 122.690450411523⋅√3⋅n  - 99.3076376756591⋅√3⋅n  - 171.923155075446\n",
       "──────────────────────────────────────────────────────────────────────────────\n",
       "         4           4                     2                        2         \n",
       "2.38⋅√3⋅n  + 4.2675⋅n  - 2.44076388888889⋅n  - 1.40832510288066⋅√3⋅n  + 0.4961\n",
       "\n",
       "  6                     4                        4                     2      \n",
       "⋅n  + 69.8858113267286⋅n  + 40.3493172321292⋅√3⋅n  - 11.2327425607885⋅n  - 6.4\n",
       "──────────────────────────────────────────────────────────────────────────────\n",
       "                                                                              \n",
       "69615912208 + 0.286488683127572⋅√3                                            \n",
       "\n",
       "                  2                                                 \n",
       "8521090565462⋅√3⋅n  - 1.77635683940025e-15 - 8.88178419700125e-16⋅√3\n",
       "────────────────────────────────────────────────────────────────────\n",
       "                                                                    \n",
       "                                                                    "
      ]
     },
     "execution_count": 111,
     "metadata": {},
     "output_type": "execute_result"
    }
   ],
   "source": [
    "(M_0.det()).simplify()"
   ]
  },
  {
   "cell_type": "code",
   "execution_count": 101,
   "metadata": {},
   "outputs": [
    {
     "ename": "MultivariatePolynomialError",
     "evalue": "Cannot compute numerical roots of Poly(1.0*n**16*(1/(1.0*n**8 - 3.85*n**6 - 1.02222222222222*sqrt(3)*n**6 + 2.38*sqrt(3)*n**4 + 4.2675*n**4 - 2.44076388888889*n**2 - 1.40832510288066*sqrt(3)*n**2 + 0.496169615912208 + 0.286488683127572*sqrt(3))) + (-11.85 - 2.17777777777778*sqrt(3))*n**14*(1/(1.0*n**8 - 3.85*n**6 - 1.02222222222222*sqrt(3)*n**6 + 2.38*sqrt(3)*n**4 + 4.2675*n**4 - 2.44076388888889*n**2 - 1.40832510288066*sqrt(3)*n**2 + 0.496169615912208 + 0.286488683127572*sqrt(3))) + (21.4511111111111*sqrt(3) + 56.9726851851852)*n**12*(1/(1.0*n**8 - 3.85*n**6 - 1.02222222222222*sqrt(3)*n**6 + 2.38*sqrt(3)*n**4 + 4.2675*n**4 - 2.44076388888889*n**2 - 1.40832510288066*sqrt(3)*n**2 + 0.496169615912208 + 0.286488683127572*sqrt(3))) + (-146.284615740741 - 75.6802839506173*sqrt(3))*n**10*(1/(1.0*n**8 - 3.85*n**6 - 1.02222222222222*sqrt(3)*n**6 + 2.38*sqrt(3)*n**4 + 4.2675*n**4 - 2.44076388888889*n**2 - 1.40832510288066*sqrt(3)*n**2 + 0.496169615912208 + 0.286488683127572*sqrt(3))) + (212.227726268861 + 122.690450411523*sqrt(3))*n**8*(1/(1.0*n**8 - 3.85*n**6 - 1.02222222222222*sqrt(3)*n**6 + 2.38*sqrt(3)*n**4 + 4.2675*n**4 - 2.44076388888889*n**2 - 1.40832510288066*sqrt(3)*n**2 + 0.496169615912208 + 0.286488683127572*sqrt(3))) + (-99.3076376756591*sqrt(3) - 171.923155075446)*n**6*(1/(1.0*n**8 - 3.85*n**6 - 1.02222222222222*sqrt(3)*n**6 + 2.38*sqrt(3)*n**4 + 4.2675*n**4 - 2.44076388888889*n**2 - 1.40832510288066*sqrt(3)*n**2 + 0.496169615912208 + 0.286488683127572*sqrt(3))) + (69.8858113267286 + 40.3493172321292*sqrt(3))*n**4*(1/(1.0*n**8 - 3.85*n**6 - 1.02222222222222*sqrt(3)*n**6 + 2.38*sqrt(3)*n**4 + 4.2675*n**4 - 2.44076388888889*n**2 - 1.40832510288066*sqrt(3)*n**2 + 0.496169615912208 + 0.286488683127572*sqrt(3))) + (-11.2327425607885 - 6.48521090565462*sqrt(3))*n**2*(1/(1.0*n**8 - 3.85*n**6 - 1.02222222222222*sqrt(3)*n**6 + 2.38*sqrt(3)*n**4 + 4.2675*n**4 - 2.44076388888889*n**2 - 1.40832510288066*sqrt(3)*n**2 + 0.496169615912208 + 0.286488683127572*sqrt(3))) + (-1.77635683940025e-15 - 8.88178419700125e-16*sqrt(3))*(1/(1.0*n**8 - 3.85*n**6 - 1.02222222222222*sqrt(3)*n**6 + 2.38*sqrt(3)*n**4 + 4.2675*n**4 - 2.44076388888889*n**2 - 1.40832510288066*sqrt(3)*n**2 + 0.496169615912208 + 0.286488683127572*sqrt(3))), n, 1/(1.0*n**8 - 3.85*n**6 - 1.02222222222222*sqrt(3)*n**6 + 2.38*sqrt(3)*n**4 + 4.2675*n**4 - 2.44076388888889*n**2 - 1.40832510288066*sqrt(3)*n**2 + 0.496169615912208 + 0.286488683127572*sqrt(3)), domain='EX')",
     "output_type": "error",
     "traceback": [
      "\u001b[1;31m---------------------------------------------------------------------------\u001b[0m",
      "\u001b[1;31mMultivariatePolynomialError\u001b[0m               Traceback (most recent call last)",
      "Cell \u001b[1;32mIn[101], line 1\u001b[0m\n\u001b[1;32m----> 1\u001b[0m sp\u001b[39m.\u001b[39mnroots(f, n, \u001b[39m0\u001b[39m)\n",
      "File \u001b[1;32mc:\\Users\\vkgup\\anaconda3\\Lib\\site-packages\\sympy\\polys\\polytools.py:6631\u001b[0m, in \u001b[0;36mnroots\u001b[1;34m(f, n, maxsteps, cleanup)\u001b[0m\n\u001b[0;32m   6627\u001b[0m \u001b[39mexcept\u001b[39;00m GeneratorsNeeded:\n\u001b[0;32m   6628\u001b[0m     \u001b[39mraise\u001b[39;00m PolynomialError(\n\u001b[0;32m   6629\u001b[0m         \u001b[39m\"\u001b[39m\u001b[39mCannot compute numerical roots of \u001b[39m\u001b[39m%s\u001b[39;00m\u001b[39m, not a polynomial\u001b[39m\u001b[39m\"\u001b[39m \u001b[39m%\u001b[39m f)\n\u001b[1;32m-> 6631\u001b[0m \u001b[39mreturn\u001b[39;00m F\u001b[39m.\u001b[39mnroots(n\u001b[39m=\u001b[39mn, maxsteps\u001b[39m=\u001b[39mmaxsteps, cleanup\u001b[39m=\u001b[39mcleanup)\n",
      "File \u001b[1;32mc:\\Users\\vkgup\\anaconda3\\Lib\\site-packages\\sympy\\polys\\polytools.py:3664\u001b[0m, in \u001b[0;36mPoly.nroots\u001b[1;34m(f, n, maxsteps, cleanup)\u001b[0m\n\u001b[0;32m   3639\u001b[0m \u001b[39m\u001b[39m\u001b[39m\"\"\"\u001b[39;00m\n\u001b[0;32m   3640\u001b[0m \u001b[39mCompute numerical approximations of roots of ``f``.\u001b[39;00m\n\u001b[0;32m   3641\u001b[0m \n\u001b[1;32m   (...)\u001b[0m\n\u001b[0;32m   3661\u001b[0m \n\u001b[0;32m   3662\u001b[0m \u001b[39m\"\"\"\u001b[39;00m\n\u001b[0;32m   3663\u001b[0m \u001b[39mif\u001b[39;00m f\u001b[39m.\u001b[39mis_multivariate:\n\u001b[1;32m-> 3664\u001b[0m     \u001b[39mraise\u001b[39;00m MultivariatePolynomialError(\n\u001b[0;32m   3665\u001b[0m         \u001b[39m\"\u001b[39m\u001b[39mCannot compute numerical roots of \u001b[39m\u001b[39m%s\u001b[39;00m\u001b[39m\"\u001b[39m \u001b[39m%\u001b[39m f)\n\u001b[0;32m   3667\u001b[0m \u001b[39mif\u001b[39;00m f\u001b[39m.\u001b[39mdegree() \u001b[39m<\u001b[39m\u001b[39m=\u001b[39m \u001b[39m0\u001b[39m:\n\u001b[0;32m   3668\u001b[0m     \u001b[39mreturn\u001b[39;00m []\n",
      "\u001b[1;31mMultivariatePolynomialError\u001b[0m: Cannot compute numerical roots of Poly(1.0*n**16*(1/(1.0*n**8 - 3.85*n**6 - 1.02222222222222*sqrt(3)*n**6 + 2.38*sqrt(3)*n**4 + 4.2675*n**4 - 2.44076388888889*n**2 - 1.40832510288066*sqrt(3)*n**2 + 0.496169615912208 + 0.286488683127572*sqrt(3))) + (-11.85 - 2.17777777777778*sqrt(3))*n**14*(1/(1.0*n**8 - 3.85*n**6 - 1.02222222222222*sqrt(3)*n**6 + 2.38*sqrt(3)*n**4 + 4.2675*n**4 - 2.44076388888889*n**2 - 1.40832510288066*sqrt(3)*n**2 + 0.496169615912208 + 0.286488683127572*sqrt(3))) + (21.4511111111111*sqrt(3) + 56.9726851851852)*n**12*(1/(1.0*n**8 - 3.85*n**6 - 1.02222222222222*sqrt(3)*n**6 + 2.38*sqrt(3)*n**4 + 4.2675*n**4 - 2.44076388888889*n**2 - 1.40832510288066*sqrt(3)*n**2 + 0.496169615912208 + 0.286488683127572*sqrt(3))) + (-146.284615740741 - 75.6802839506173*sqrt(3))*n**10*(1/(1.0*n**8 - 3.85*n**6 - 1.02222222222222*sqrt(3)*n**6 + 2.38*sqrt(3)*n**4 + 4.2675*n**4 - 2.44076388888889*n**2 - 1.40832510288066*sqrt(3)*n**2 + 0.496169615912208 + 0.286488683127572*sqrt(3))) + (212.227726268861 + 122.690450411523*sqrt(3))*n**8*(1/(1.0*n**8 - 3.85*n**6 - 1.02222222222222*sqrt(3)*n**6 + 2.38*sqrt(3)*n**4 + 4.2675*n**4 - 2.44076388888889*n**2 - 1.40832510288066*sqrt(3)*n**2 + 0.496169615912208 + 0.286488683127572*sqrt(3))) + (-99.3076376756591*sqrt(3) - 171.923155075446)*n**6*(1/(1.0*n**8 - 3.85*n**6 - 1.02222222222222*sqrt(3)*n**6 + 2.38*sqrt(3)*n**4 + 4.2675*n**4 - 2.44076388888889*n**2 - 1.40832510288066*sqrt(3)*n**2 + 0.496169615912208 + 0.286488683127572*sqrt(3))) + (69.8858113267286 + 40.3493172321292*sqrt(3))*n**4*(1/(1.0*n**8 - 3.85*n**6 - 1.02222222222222*sqrt(3)*n**6 + 2.38*sqrt(3)*n**4 + 4.2675*n**4 - 2.44076388888889*n**2 - 1.40832510288066*sqrt(3)*n**2 + 0.496169615912208 + 0.286488683127572*sqrt(3))) + (-11.2327425607885 - 6.48521090565462*sqrt(3))*n**2*(1/(1.0*n**8 - 3.85*n**6 - 1.02222222222222*sqrt(3)*n**6 + 2.38*sqrt(3)*n**4 + 4.2675*n**4 - 2.44076388888889*n**2 - 1.40832510288066*sqrt(3)*n**2 + 0.496169615912208 + 0.286488683127572*sqrt(3))) + (-1.77635683940025e-15 - 8.88178419700125e-16*sqrt(3))*(1/(1.0*n**8 - 3.85*n**6 - 1.02222222222222*sqrt(3)*n**6 + 2.38*sqrt(3)*n**4 + 4.2675*n**4 - 2.44076388888889*n**2 - 1.40832510288066*sqrt(3)*n**2 + 0.496169615912208 + 0.286488683127572*sqrt(3))), n, 1/(1.0*n**8 - 3.85*n**6 - 1.02222222222222*sqrt(3)*n**6 + 2.38*sqrt(3)*n**4 + 4.2675*n**4 - 2.44076388888889*n**2 - 1.40832510288066*sqrt(3)*n**2 + 0.496169615912208 + 0.286488683127572*sqrt(3)), domain='EX')"
     ]
    }
   ],
   "source": [
    "sp.nroots(f, n, 0)"
   ]
  },
  {
   "cell_type": "code",
   "execution_count": 114,
   "metadata": {},
   "outputs": [
    {
     "name": "stdout",
     "output_type": "stream",
     "text": [
      "-2*n**4 - 1025*n**2 - 116*n - 7\n"
     ]
    }
   ],
   "source": [
    "\n",
    "# import sympy\n",
    "from sympy import *\n",
    "  \n",
    "# Use sympy.det() method\n",
    "mat = Matrix([[n**2+1, 5, 1], [12, -n, 31], [4, 33, 2*n]])\n",
    "d = mat.det()\n",
    "   \n",
    "print(d)"
   ]
  },
  {
   "cell_type": "code",
   "execution_count": null,
   "metadata": {},
   "outputs": [],
   "source": []
  }
 ],
 "metadata": {
  "kernelspec": {
   "display_name": "base",
   "language": "python",
   "name": "python3"
  },
  "language_info": {
   "codemirror_mode": {
    "name": "ipython",
    "version": 3
   },
   "file_extension": ".py",
   "mimetype": "text/x-python",
   "name": "python",
   "nbconvert_exporter": "python",
   "pygments_lexer": "ipython3",
   "version": "3.11.3"
  },
  "orig_nbformat": 4
 },
 "nbformat": 4,
 "nbformat_minor": 2
}
