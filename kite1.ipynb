{
 "cells": [
  {
   "cell_type": "code",
   "execution_count": 2,
   "metadata": {},
   "outputs": [],
   "source": [
    "import sympy as sp\n",
    "sp.init_printing()"
   ]
  },
  {
   "cell_type": "code",
   "execution_count": 10,
   "metadata": {},
   "outputs": [
    {
     "data": {
      "text/latex": [
       "$\\displaystyle \\left[\\begin{matrix}a & \\frac{32 \\sqrt{3} A}{27 \\cdot \\left(1 - \\mu\\right)} + \\frac{8 \\sqrt{3} \\mu}{9} & 1 - 3 \\mu & \\frac{8 \\sqrt{3} \\mu}{9}\\\\\\frac{4 \\sqrt{3} \\cdot \\left(\\frac{8 A}{3 \\mu} - 3 \\mu + 3\\right)}{9} & b & \\frac{64 A}{1 - 3 \\mu} - 12 \\mu + 4 & \\frac{8 \\sqrt{3} \\cdot \\left(4 A + 3 \\mu\\right)}{27}\\\\1 - \\mu & \\frac{2 A}{1 - 3 \\mu} + 8 \\mu & c & \\frac{8 A}{1 - 3 \\mu} + 8 \\mu\\\\\\frac{32 \\sqrt{3} A}{27 \\mu} + \\frac{\\sqrt{3} \\cdot \\left(4 - 4 \\mu\\right)}{9} & \\frac{8 \\sqrt{3} \\mu}{9} & \\frac{32 \\sqrt{3} A}{27 \\mu} - 12 \\mu + 4 & d\\end{matrix}\\right]$"
      ],
      "text/plain": [
       "⎡                         32⋅√3⋅A     8⋅√3⋅μ                           8⋅√3⋅μ \n",
       "⎢          a             ────────── + ──────       1 - 3⋅μ             ────── \n",
       "⎢                        27⋅(1 - μ)     9                                9    \n",
       "⎢                                                                             \n",
       "⎢      ⎛8⋅A          ⎞                                                        \n",
       "⎢ 4⋅√3⋅⎜─── - 3⋅μ + 3⎟                                                        \n",
       "⎢      ⎝3⋅μ          ⎠                          64⋅A              8⋅√3⋅(4⋅A + \n",
       "⎢ ────────────────────            b           ─────── - 12⋅μ + 4  ────────────\n",
       "⎢          9                                  1 - 3⋅μ                    27   \n",
       "⎢                                                                             \n",
       "⎢                             2⋅A                                    8⋅A      \n",
       "⎢        1 - μ              ─────── + 8⋅μ             c            ─────── + 8\n",
       "⎢                           1 - 3⋅μ                                1 - 3⋅μ    \n",
       "⎢                                                                             \n",
       "⎢32⋅√3⋅A   √3⋅(4 - 4⋅μ)        8⋅√3⋅μ         32⋅√3⋅A                         \n",
       "⎢─────── + ────────────        ──────         ─────── - 12⋅μ + 4         d    \n",
       "⎣  27⋅μ         9                9              27⋅μ                          \n",
       "\n",
       "    ⎤\n",
       "    ⎥\n",
       "    ⎥\n",
       "    ⎥\n",
       "    ⎥\n",
       "    ⎥\n",
       "3⋅μ)⎥\n",
       "────⎥\n",
       "    ⎥\n",
       "    ⎥\n",
       "    ⎥\n",
       "⋅μ  ⎥\n",
       "    ⎥\n",
       "    ⎥\n",
       "    ⎥\n",
       "    ⎥\n",
       "    ⎦"
      ]
     },
     "execution_count": 10,
     "metadata": {},
     "output_type": "execute_result"
    }
   ],
   "source": [
    "a,b,c,d,A,mu = sp.symbols(\"a b c d A mu\")\n",
    "\n",
    "mat = [\n",
    "a, \n",
    "(8*mu)/(3*(sp.sqrt(3)))+32*A/(9*(sp.sqrt(3))*(1-mu)) , \n",
    "1-3*mu , \n",
    "(8*mu)/(3*(sp.sqrt(3))), \n",
    "4/(3*(sp.sqrt(3)))*((1-mu)*3+8*A/(3*mu)) , \n",
    "b , \n",
    "4*((1-3*mu)+(16*A)/(1-3*mu)) , \n",
    "(8/(9*sp.sqrt(3)))*(3*mu+4*A), \n",
    "1-mu , \n",
    "2*((4*mu)+A/(1-3*mu)) , \n",
    "c , \n",
    "8*(mu+A/(1-3*mu)) , \n",
    "((4*(1-mu))/(3*sp.sqrt(3)))+(32*A)/((9*sp.sqrt(3))*mu) , \n",
    "(8*mu)/(3*sp.sqrt(3)) , \n",
    "(4*(1-3*mu))+(32*A)/((9*sp.sqrt(3))*mu) , \n",
    "d\n",
    "]\n",
    "A = sp.Matrix(4, 4, mat)\n",
    "A"
   ]
  },
  {
   "cell_type": "code",
   "execution_count": null,
   "metadata": {},
   "outputs": [],
   "source": []
  }
 ],
 "metadata": {
  "kernelspec": {
   "display_name": "base",
   "language": "python",
   "name": "python3"
  },
  "language_info": {
   "codemirror_mode": {
    "name": "ipython",
    "version": 3
   },
   "file_extension": ".py",
   "mimetype": "text/x-python",
   "name": "python",
   "nbconvert_exporter": "python",
   "pygments_lexer": "ipython3",
   "version": "3.11.3"
  },
  "orig_nbformat": 4
 },
 "nbformat": 4,
 "nbformat_minor": 2
}
